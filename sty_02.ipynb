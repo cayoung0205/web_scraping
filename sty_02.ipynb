{
    "cells": [
        {
            "cell_type": "code",
            "execution_count": null,
            "source": [
                "%%writefile 'C:\\\\Users\\\\Choi_AY\\\\git-ay\\\\web_scraping\\\\HTML_example.html'\r\n",
                "<!doctype html>\r\n",
                "<html>\r\n",
                " <head>\r\n",
                "    <meta charset=\"utf-8\">\r\n",
                "    <title>이것은 HTML 예제</title>\r\n",
                " </head>\r\n",
                " <body>\r\n",
                "    <h1>출간된 책 정보</h1>\r\n",
                "    <p id='book_title'>이해가 쏙쏙 되는 파이선</p>\r\n",
                "    <p id='author'>홍길도</p>\r\n",
                "    <p id='publisher'>위키북스 출판사</p>\r\n",
                "    <p id='year'>2018</p>\r\n",
                " </body>\r\n",
                "</html>"
            ],
            "outputs": [],
            "metadata": {}
        },
        {
            "cell_type": "code",
            "execution_count": 3,
            "source": [
                "%%writefile 'C:\\\\Users\\\\Choi_AY\\\\git-ay\\\\web_scraping\\\\HTML_example2.html'\r\n",
                "<!doctype html>\r\n",
                "<html>\r\n",
                " <head>\r\n",
                "    <meta charset=\"utf-8\">\r\n",
                "    <title>이것은 HTML 예제</title>\r\n",
                " </head>\r\n",
                " <body>\r\n",
                "    <h1>출간된 책 정보</h1>\r\n",
                "    <p id='book_title'>이해가 쏙쏙 되는 파이선</p>\r\n",
                "    <p id='author'>홍길도</p>\r\n",
                "    <p id='publisher'>위키북스 출판사</p>\r\n",
                "    <p id='year'>2018</p>\r\n",
                " </body>\r\n",
                "</html>"
            ],
            "outputs": [
                {
                    "output_type": "stream",
                    "name": "stdout",
                    "text": [
                        "Writing C:\\\\Users\\\\Choi_AY\\\\git-ay\\\\web_scraping\\\\HTML_example2.html\n"
                    ]
                }
            ],
            "metadata": {}
        },
        {
            "cell_type": "code",
            "execution_count": 4,
            "source": [
                "import requests as req\r\n",
                "\r\n",
                "r=req.get('https://www.google.com')\r\n",
                "r"
            ],
            "outputs": [
                {
                    "output_type": "execute_result",
                    "data": {
                        "text/plain": [
                            "<Response [200]>"
                        ]
                    },
                    "metadata": {},
                    "execution_count": 4
                }
            ],
            "metadata": {}
        },
        {
            "cell_type": "code",
            "execution_count": 3,
            "source": [
                "!pip install bs4"
            ],
            "outputs": [
                {
                    "output_type": "stream",
                    "name": "stdout",
                    "text": [
                        "Requirement already satisfied: bs4 in c:\\programdata\\anaconda3\\lib\\site-packages (0.0.1)\n",
                        "Requirement already satisfied: beautifulsoup4 in c:\\programdata\\anaconda3\\lib\\site-packages (from bs4) (4.9.3)\n",
                        "Requirement already satisfied: soupsieve>1.2 in c:\\programdata\\anaconda3\\lib\\site-packages (from beautifulsoup4->bs4) (2.2.1)\n"
                    ]
                }
            ],
            "metadata": {}
        },
        {
            "cell_type": "code",
            "execution_count": 1,
            "source": [
                "from bs4 import BeautifulSoup\r\n",
                "\r\n",
                "html=\"\"\"<html><body><div><span>\\\r\n",
                "<a href=https://www.naver.com>naver</a>\\\r\n",
                "<a href=https://www.google.com>google</a>\\\r\n",
                "<a href=https://www.daum.net>daum</a>w\r\n",
                "</span></div></body></html>\"\"\"\r\n",
                "\r\n",
                "soup=BeautifulSoup(html,'lxml')\r\n",
                "soup"
            ],
            "outputs": [
                {
                    "output_type": "execute_result",
                    "data": {
                        "text/plain": [
                            "<html><body><div><span><a href=\"https://www.naver.com\">naver</a><a href=\"https://www.google.com\">google</a><a href=\"https://www.daum.net\">daum</a>w\n",
                            "</span></div></body></html>"
                        ]
                    },
                    "metadata": {},
                    "execution_count": 1
                }
            ],
            "metadata": {}
        },
        {
            "cell_type": "code",
            "execution_count": 2,
            "source": [
                "## 정렬\r\n",
                "print(soup.prettify())"
            ],
            "outputs": [
                {
                    "output_type": "stream",
                    "name": "stdout",
                    "text": [
                        "<html>\n",
                        " <body>\n",
                        "  <div>\n",
                        "   <span>\n",
                        "    <a href=\"https://www.naver.com\">\n",
                        "     naver\n",
                        "    </a>\n",
                        "    <a href=\"https://www.google.com\">\n",
                        "     google\n",
                        "    </a>\n",
                        "    <a href=\"https://www.daum.net\">\n",
                        "     daum\n",
                        "    </a>\n",
                        "    w\n",
                        "   </span>\n",
                        "  </div>\n",
                        " </body>\n",
                        "</html>\n"
                    ]
                }
            ],
            "metadata": {}
        },
        {
            "cell_type": "code",
            "execution_count": 3,
            "source": [
                "## 'a' 출력\r\n",
                "soup.find('a')"
            ],
            "outputs": [
                {
                    "output_type": "execute_result",
                    "data": {
                        "text/plain": [
                            "<a href=\"https://www.naver.com\">naver</a>"
                        ]
                    },
                    "metadata": {},
                    "execution_count": 3
                }
            ],
            "metadata": {}
        },
        {
            "cell_type": "code",
            "execution_count": 4,
            "source": [
                "## a중에서 텍스트만 출력\r\n",
                "soup.find('a').get_text()"
            ],
            "outputs": [
                {
                    "output_type": "execute_result",
                    "data": {
                        "text/plain": [
                            "'naver'"
                        ]
                    },
                    "metadata": {},
                    "execution_count": 4
                }
            ],
            "metadata": {}
        },
        {
            "cell_type": "code",
            "execution_count": 10,
            "source": [
                "## 'a' 전부 출력, 텍스트 출력(for)\r\n",
                "soup.find_all('a')\r\n",
                "\r\n",
                "site_names=soup.find_all('a')\r\n",
                "for site_name in site_names:\r\n",
                "    print(site_name.get_text())"
            ],
            "outputs": [
                {
                    "output_type": "stream",
                    "name": "stdout",
                    "text": [
                        "naver\n",
                        "google\n",
                        "daum\n"
                    ]
                }
            ],
            "metadata": {}
        },
        {
            "cell_type": "code",
            "execution_count": 11,
            "source": [
                "from bs4 import BeautifulSoup\r\n",
                "\r\n",
                "html2=\"\"\"\r\n",
                "<html>\r\n",
                " <head>\r\n",
                "    <title>작품과 작가 모음</title>\r\n",
                " </head>\r\n",
                " <body>\r\n",
                "    <h1>책 정보</h1>\r\n",
                "    <p id='book_title'>토지</p>\r\n",
                "    <p id='author'>박경리</p>\r\n",
                "    \r\n",
                "    <p id='book_title'>태백산맥</p>\r\n",
                "    <p id='author'>조정래</p>\r\n",
                "    \r\n",
                "    <p id='book_title'>감옥으로부터의 사색</p>\r\n",
                "    <p id='author'>신영복</p>\r\n",
                " </body>\r\n",
                "</html>\r\n",
                "\"\"\"\r\n",
                "\r\n",
                "soup2=BeautifulSoup(html2,'lxml')"
            ],
            "outputs": [],
            "metadata": {}
        },
        {
            "cell_type": "code",
            "execution_count": 19,
            "source": [
                "### 최종: title/author\r\n",
                "## all p\r\n",
                "\r\n",
                "soup2.find_all('p')"
            ],
            "outputs": [
                {
                    "output_type": "execute_result",
                    "data": {
                        "text/plain": [
                            "[<p id=\"book_title\">토지</p>,\n",
                            " <p id=\"author\">박경리</p>,\n",
                            " <p id=\"book_title\">태백산맥</p>,\n",
                            " <p id=\"author\">조정래</p>,\n",
                            " <p id=\"book_title\">감옥으로부터의 사색</p>,\n",
                            " <p id=\"author\">신영복</p>]"
                        ]
                    },
                    "metadata": {},
                    "execution_count": 19
                }
            ],
            "metadata": {}
        },
        {
            "cell_type": "code",
            "execution_count": 21,
            "source": [
                "## all title\r\n",
                "soup2.find_all('p',{'id':'book_title'})"
            ],
            "outputs": [
                {
                    "output_type": "execute_result",
                    "data": {
                        "text/plain": [
                            "[<p id=\"book_title\">토지</p>,\n",
                            " <p id=\"book_title\">태백산맥</p>,\n",
                            " <p id=\"book_title\">감옥으로부터의 사색</p>]"
                        ]
                    },
                    "metadata": {},
                    "execution_count": 21
                }
            ],
            "metadata": {}
        },
        {
            "cell_type": "code",
            "execution_count": 23,
            "source": [
                "## all author\r\n",
                "soup2.find_all('p',{'id':'author'})"
            ],
            "outputs": [
                {
                    "output_type": "execute_result",
                    "data": {
                        "text/plain": [
                            "[<p id=\"author\">박경리</p>, <p id=\"author\">조정래</p>, <p id=\"author\">신영복</p>]"
                        ]
                    },
                    "metadata": {},
                    "execution_count": 23
                }
            ],
            "metadata": {}
        },
        {
            "cell_type": "code",
            "execution_count": 26,
            "source": [
                "### 최종\r\n",
                "book_titles=soup2.find_all('p',{'id':'book_title'})\r\n",
                "authors=soup2.find_all('p',{'id':'author'})\r\n",
                "\r\n",
                "for book_title,author in zip(book_titles,authors):\r\n",
                "    print(book_title.get_text()+'/'+author.get_text())"
            ],
            "outputs": [
                {
                    "output_type": "stream",
                    "name": "stdout",
                    "text": [
                        "토지/박경리\n",
                        "태백산맥/조정래\n",
                        "감옥으로부터의 사색/신영복\n"
                    ]
                }
            ],
            "metadata": {}
        },
        {
            "cell_type": "code",
            "execution_count": 29,
            "source": [
                "%%writefile 'C:\\\\Users\\\\Choi_AY\\\\git-ay\\\\web_scraping\\\\HTML_example_my_site.html'\r\n",
                "<!doctype html>\r\n",
                "<html>\r\n",
                " <head>\r\n",
                "    <meta charset='utf-8'>\r\n",
                "    <title>사이트 모음</title>\r\n",
                " </head>\r\n",
                " <body>\r\n",
                "    <p id='title'><b>자주 가는 사이트 모음</b></p>\r\n",
                "    <p id='contents'>이곳은 자주 가는 사이트를 모아둔 곳입니다.</p>\r\n",
                "    <a href=\"https://www.naver.com\" class='portal' id=\"naver\">네이버</a><br>\r\n",
                "    <a href='https://www.google.com' class='search' id=\"google\">구글</a><br>\r\n",
                "    <a href='https://www.daum.net' class='portal' id='daum'>다음</a><br>\r\n",
                "    <a href='https://www.nl.go.kr' class='goverment' id='nl'>국립중앙도서관</a><br>\r\n",
                " </body>\r\n",
                "</html>"
            ],
            "outputs": [
                {
                    "output_type": "stream",
                    "name": "stdout",
                    "text": [
                        "Writing C:\\\\Users\\\\Choi_AY\\\\git-ay\\\\web_scraping\\\\HTML_example_my_site.html\n"
                    ]
                }
            ],
            "metadata": {}
        },
        {
            "cell_type": "code",
            "execution_count": 31,
            "source": [
                "### 파일 열기\r\n",
                "\r\n",
                "f=open('C:\\\\Users\\\\Choi_AY\\\\git-ay\\\\web_scraping\\\\HTML_example_my_site.html',encoding='utf-8')\r\n",
                "\r\n",
                "html3=f.read()\r\n",
                "f.close()\r\n",
                "\r\n",
                "soup3=BeautifulSoup(html3,'lxml')"
            ],
            "outputs": [],
            "metadata": {}
        },
        {
            "cell_type": "code",
            "execution_count": 34,
            "source": [
                "## 'a' 정리 (select)\r\n",
                "soup3.select('a')"
            ],
            "outputs": [
                {
                    "output_type": "execute_result",
                    "data": {
                        "text/plain": [
                            "[<a class=\"portal\" href=\"https://www.naver.com\" id=\"naver\">네이버</a>,\n",
                            " <a class=\"search\" href=\"https://www.google.com\" id=\"google\">구글</a>,\n",
                            " <a class=\"portal\" href=\"https://www.daum.net\" id=\"daum\">다음</a>,\n",
                            " <a class=\"goverment\" href=\"https://www.nl.go.kr\" id=\"nl\">국립중앙도서관</a>]"
                        ]
                    },
                    "metadata": {},
                    "execution_count": 34
                }
            ],
            "metadata": {}
        },
        {
            "cell_type": "code",
            "execution_count": 36,
            "source": [
                "## 클래스로 정리\r\n",
                "soup3.select('a.portal')"
            ],
            "outputs": [
                {
                    "output_type": "execute_result",
                    "data": {
                        "text/plain": [
                            "[<a class=\"portal\" href=\"https://www.naver.com\" id=\"naver\">네이버</a>,\n",
                            " <a class=\"portal\" href=\"https://www.daum.net\" id=\"daum\">다음</a>]"
                        ]
                    },
                    "metadata": {},
                    "execution_count": 36
                }
            ],
            "metadata": {}
        },
        {
            "cell_type": "code",
            "execution_count": 37,
            "source": [
                "soup3.select('a.search')"
            ],
            "outputs": [
                {
                    "output_type": "execute_result",
                    "data": {
                        "text/plain": [
                            "[<a class=\"search\" href=\"https://www.google.com\" id=\"google\">구글</a>]"
                        ]
                    },
                    "metadata": {},
                    "execution_count": 37
                }
            ],
            "metadata": {}
        },
        {
            "cell_type": "code",
            "execution_count": 38,
            "source": [
                "soup3.select('a.goverment')"
            ],
            "outputs": [
                {
                    "output_type": "execute_result",
                    "data": {
                        "text/plain": [
                            "[<a class=\"goverment\" href=\"https://www.nl.go.kr\" id=\"nl\">국립중앙도서관</a>]"
                        ]
                    },
                    "metadata": {},
                    "execution_count": 38
                }
            ],
            "metadata": {}
        },
        {
            "cell_type": "code",
            "execution_count": 40,
            "source": [
                "## id(#)으로 정리\r\n",
                "soup3.select('a#naver')"
            ],
            "outputs": [
                {
                    "output_type": "execute_result",
                    "data": {
                        "text/plain": [
                            "[<a class=\"portal\" href=\"https://www.naver.com\" id=\"naver\">네이버</a>]"
                        ]
                    },
                    "metadata": {},
                    "execution_count": 40
                }
            ],
            "metadata": {}
        },
        {
            "cell_type": "code",
            "execution_count": 41,
            "source": [
                "soup3.select('a#daum')"
            ],
            "outputs": [
                {
                    "output_type": "execute_result",
                    "data": {
                        "text/plain": [
                            "[<a class=\"portal\" href=\"https://www.daum.net\" id=\"daum\">다음</a>]"
                        ]
                    },
                    "metadata": {},
                    "execution_count": 41
                }
            ],
            "metadata": {}
        },
        {
            "cell_type": "code",
            "execution_count": 42,
            "source": [
                "soup3.select('a#google')"
            ],
            "outputs": [
                {
                    "output_type": "execute_result",
                    "data": {
                        "text/plain": [
                            "[<a class=\"search\" href=\"https://www.google.com\" id=\"google\">구글</a>]"
                        ]
                    },
                    "metadata": {},
                    "execution_count": 42
                }
            ],
            "metadata": {}
        },
        {
            "cell_type": "code",
            "execution_count": 44,
            "source": [
                "soup3.select('a#nl')"
            ],
            "outputs": [
                {
                    "output_type": "execute_result",
                    "data": {
                        "text/plain": [
                            "[<a class=\"goverment\" href=\"https://www.nl.go.kr\" id=\"nl\">국립중앙도서관</a>]"
                        ]
                    },
                    "metadata": {},
                    "execution_count": 44
                }
            ],
            "metadata": {}
        }
    ],
    "metadata": {
        "orig_nbformat": 4,
        "language_info": {
            "name": "python",
            "version": "3.8.11",
            "mimetype": "text/x-python",
            "codemirror_mode": {
                "name": "ipython",
                "version": 3
            },
            "pygments_lexer": "ipython3",
            "nbconvert_exporter": "python",
            "file_extension": ".py"
        },
        "kernelspec": {
            "name": "python3",
            "display_name": "Python 3.8.11 64-bit ('zero_01': conda)"
        },
        "interpreter": {
            "hash": "8ee7d9b383e985e028e004dfc0263b023ad8ecf6f0192d3e99b00f65d4b1086c"
        }
    },
    "nbformat": 4,
    "nbformat_minor": 2
}